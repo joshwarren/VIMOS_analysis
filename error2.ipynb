{
 "cells": [
  {
   "cell_type": "code",
   "execution_count": 1,
   "metadata": {
    "collapsed": true
   },
   "outputs": [],
   "source": [
    "%matplotlib inline"
   ]
  },
  {
   "cell_type": "markdown",
   "metadata": {},
   "source": [
    "This is a sort of copy of errors2.py for testing."
   ]
  },
  {
   "cell_type": "code",
   "execution_count": 4,
   "metadata": {
    "collapsed": false
   },
   "outputs": [],
   "source": [
    "import numpy as np # for array handling\n",
    "import glob # for searching for files\n",
    "from astropy.io import fits as pyfits # reads fits files (is from astropy)\n",
    "from scipy import ndimage # for gaussian blur\n",
    "import math\n",
    "import os\n",
    "import sys"
   ]
  },
  {
   "cell_type": "code",
   "execution_count": 5,
   "metadata": {
    "collapsed": true
   },
   "outputs": [],
   "source": [
    "def set_params():\n",
    "## ----------===============================================---------\n",
    "## ----------============= Input parameters  ===============---------\n",
    "## ----------===============================================---------\n",
    "    glamdring = False\n",
    "    quiet = True\n",
    "    gas = 3 # 0   No gas emission lines\n",
    "            # 1   Probe ionised gas\n",
    "            # 2   Seperate gases heated by shocks (OIII and NI) and by SF gas\n",
    "            #     (Hb and Hd)\n",
    "            # 3   All gas seperate.\n",
    "    reps = 0 ## number of monte carlo reps per bin.\n",
    "    discard = 2\n",
    "    set_range = np.array([4200,10000])\n",
    "    FWHM_gal = 4*0.71 # The fibre FWHM on VIMOS is\n",
    "                           # about 4px with a dispersion of\n",
    "                           # 0.571A/px. (From: http://www.eso.org\n",
    "                           # /sci/facilities/paranal/instruments\n",
    "                           # /vimos/inst/ifu.html)\n",
    "    stellar_moments = 4 # number of componants to calc with ppxf (see \n",
    "                        # keyword moments in ppxf.pro for more details)\n",
    "    gas_moments = 4\n",
    "    degree = 4  # order of addative Legendre polynomial used to \n",
    "                #; correct the template continuum shape during the fit\n",
    "    return glamdring, quiet, gas, reps, discard, set_range, FWHM_gal, \\\n",
    "        stellar_moments, gas_moments, degree"
   ]
  },
  {
   "cell_type": "code",
   "execution_count": 6,
   "metadata": {
    "collapsed": true
   },
   "outputs": [],
   "source": [
    "def set_lines (lines, logLam_temp, FWHM_gal):\n",
    "# In this routine all lines are free to have independent intensities.\n",
    "# One can fix the intensity ratio of different lines (e.g. the [OIII] doublet)\n",
    "# by placing them in the same emission template\n",
    "    lam = np.exp(logLam_temp)\n",
    "#    lines = lines[where((lines gt min(lam)) and (lines lt max(lam)))]\n",
    "    sigma = FWHM_gal/2.355 # Assumes instrumental sigma is constant in Angstrom\n",
    "    emission_lines = np.zeros((len(logLam_temp),len(lines)))\n",
    "    for j in range(len(lines)):\n",
    "        emission_lines[:,j] = np.exp(-0.5*np.power((lam - lines[j])/sigma,2))\n",
    "    return emission_lines"
   ]
  },
  {
   "cell_type": "code",
   "execution_count": 7,
   "metadata": {
    "collapsed": true
   },
   "outputs": [],
   "source": [
    "def use_templates(galaxy, glamdring=False):\n",
    "    if glamdring:\n",
    "        template_weighting = '/users/warrenj/analysis/' + galaxy + \\\n",
    "\t    '/templates.txt' \n",
    "    else:\n",
    "        template_weighting = '/Data/vimos/analysis/' + galaxy + \\\n",
    "\t    '/templates.txt' \n",
    "\n",
    "    templatesToUse = np.loadtxt(template_weighting, usecols=(0,), dtype='i')\n",
    "    return templatesToUse"
   ]
  },
  {
   "cell_type": "code",
   "execution_count": 8,
   "metadata": {
    "collapsed": true
   },
   "outputs": [],
   "source": [
    "def determine_goodpixels(logLam, lamRangeTemp, vel, z, gas=False):\n",
    "# warrenj 20150905 Copied from ppxf_determine_goodPixels.pro\n",
    "#\n",
    "# PPXF_DETERMINE_GOODPIXELS: Example routine to generate the vector of\n",
    "#\tgoodPixels to be used as input keyword for the routine\n",
    "#\tPPXF. This is useful to mask gas emission lines or atmospheric\n",
    "#\tabsorptions. It can be trivially adapted to mask different\n",
    "#\tlines. \n",
    "# \n",
    "# INPUT PARAMETERS:\n",
    "# - LOGLAM: Natural logarithm ALOG(wave) of the wavelength in Angstrom \n",
    "#     of each pixel of the log rebinned *galaxy* spectrum.\n",
    "# - LAMRANGETEMP: Two elements vectors [lamMin2,lamMax2] with the\n",
    "#     minimum and maximum wavelength in Angstrom in the stellar\n",
    "#     *template* used in PPXF. \n",
    "# - VEL: Estimate of the galaxy velocity in km/s.\n",
    "# \n",
    "# V1.0: Michele Cappellari, Leiden, 9 September 2005\n",
    "# V1.01: Made a separate routine and included additional common\n",
    "#   emission lines. MC, Oxford 12 January 2012\n",
    "# V1.02: Included more lines. MC, Oxford, 7 Januray 2014\n",
    "\n",
    "    c = 299792.458 # speed of light in km/s\n",
    "\n",
    "## 20150617 warrenj Added Telluric lines (tell) at 5199 (is a blended sky\n",
    "## line)\n",
    "\n",
    " \n",
    "#dv = lines*0+800d # width/2 of masked gas emission region in km/s\n",
    "    dv = 800 # width/2 of masked gas emission region in km/s\n",
    "#    flag = bytearray([0]*len(logLam))\n",
    "    flag = logLam < 0\n",
    "\n",
    "# Marks telluric line\n",
    "    tell = 5199\n",
    "    flag |= (logLam > np.log(tell) - z - dv/c) \\\n",
    "        & (logLam < np.log(tell) - z + dv/c) \n",
    "\n",
    "    if not gas:\n",
    "#                         -----[OII]-----   Hdelta    Hgamma   Hbeta;\n",
    "        lines = np.array([3726.03, 3728.82, 4101.76, 4340.47, 4861.33, \\\n",
    "#            -----[OIII]----- ----??----   [OI]   \n",
    "            4958.92, 5006.84, 5528, 5535, 6300.30, \\\n",
    "#           -----[NII]-----  Halpha   -----[SII]-----   \n",
    "            6548.03, 6583.41,  6562.80, 6716.47, 6730.85])\n",
    "\n",
    "        for j in range(len(lines)):\n",
    "            flag |= (logLam > np.log(lines[j]) + (vel- dv)/c) \\\n",
    "                & (logLam < np.log(lines[j]) + (vel+ dv)/c)\n",
    "\n",
    "\n",
    "    flag |= logLam < np.log(lamRangeTemp[0]) + (vel + 900)/c # Mask edges of\n",
    "    flag |= logLam > np.log(lamRangeTemp[1]) + (vel - 900)/c # stellar library\n",
    "\n",
    "\n",
    "    flag[0:3] = 1 # Mask edge of data\n",
    "    flag[-4:]= 1 # to remove edge effects\n",
    "    return np.where(flag == 0)[0]"
   ]
  },
  {
   "cell_type": "code",
   "execution_count": 9,
   "metadata": {
    "collapsed": true
   },
   "outputs": [],
   "source": [
    "glamdring, quiet, gas, reps, discard, set_range, FWHM_gal, \\\n",
    "        stellar_moments, gas_moments, degree = set_params()"
   ]
  },
  {
   "cell_type": "code",
   "execution_count": 17,
   "metadata": {
    "collapsed": true
   },
   "outputs": [],
   "source": [
    "galaxy = 'ngc3557'\n",
    "bin = 686"
   ]
  },
  {
   "cell_type": "code",
   "execution_count": 18,
   "metadata": {
    "collapsed": true
   },
   "outputs": [],
   "source": [
    "dir = '/Data/vimos/'\n",
    "dir2 = '/Data/idl_libraries/'\n",
    "import matplotlib.pyplot as plt # used for plotting\n",
    "from ppxf import ppxf\n",
    "import ppxf_util as util"
   ]
  },
  {
   "cell_type": "code",
   "execution_count": 19,
   "metadata": {
    "collapsed": false
   },
   "outputs": [],
   "source": [
    "data_file = dir + \"analysis/galaxies.txt\"\n",
    "# different data types need to be read separetly\n",
    "z_gals, vel_gals, sig_gals, x_gals, y_gals = np.loadtxt(data_file, unpack=True, skiprows=1, usecols=(1,2,3,4,5))\n",
    "galaxy_gals = np.loadtxt(data_file, skiprows=1, usecols=(0,),dtype=str)\n",
    "i_gal = np.where(galaxy_gals==galaxy)[0][0]\n",
    "vel = vel_gals[i_gal]\n",
    "sig = sig_gals[i_gal]\n",
    "z = z_gals[i_gal]\n",
    "\n",
    "tessellation_File = dir + \"analysis/%s/\" %(galaxy) +\\\n",
    "        \"voronoi_2d_binning_output.txt\"\n",
    "tessellation_File2 = dir + \"analysis/%s/\" %(galaxy) +\\\n",
    "        \"voronoi_2d_binning_output2.txt\"\n",
    "\n",
    "FWHM_gal = FWHM_gal/(1+z) # Adjust resolution in Angstrom"
   ]
  },
  {
   "cell_type": "code",
   "execution_count": 20,
   "metadata": {
    "collapsed": true
   },
   "outputs": [],
   "source": [
    "## ----------========= Reading Tessellation  =============---------\n",
    "\n",
    "## Reads the txt file containing the output of the binning_spaxels\n",
    "## routine. \n",
    "x,y,bin_num = np.loadtxt(tessellation_File, usecols=(0,1,2), \\\n",
    "        unpack=True, skiprows=1)\n",
    "\n",
    "n_bins = max(bin_num) + 1\n",
    "## Contains the order of the bin numbers in terms of index number.\n",
    "order = np.sort(bin_num)"
   ]
  },
  {
   "cell_type": "code",
   "execution_count": 21,
   "metadata": {
    "collapsed": true
   },
   "outputs": [],
   "source": [
    "## ----------========= Reading the spectrum  =============---------\n",
    "\n",
    "dataCubeDirectory = glob.glob(dir+\"cubes/%s.cube.combined.fits\" % (galaxy)) \n",
    "        \n",
    "galaxy_data, header = pyfits.getdata(dataCubeDirectory[0], 0, header=True)\n",
    "galaxy_noise = pyfits.getdata(dataCubeDirectory[0], 1)\n",
    "\n",
    "## write key parameters from header - can then be altered in future\t\n",
    "CRVAL_spec = header['CRVAL3']\n",
    "CDELT_spec = header['CDELT3']\n",
    "s = galaxy_data.shape\n",
    "\n",
    "rows_to_remove = range(discard)\n",
    "rows_to_remove.extend([s[1]-1-i for i in range(discard)])\n",
    "cols_to_remove = range(discard)\n",
    "cols_to_remove.extend([s[2]-1-i for i in range(discard)])\n",
    "\n",
    "galaxy_data = np.delete(galaxy_data, rows_to_remove, axis=1)\n",
    "galaxy_data = np.delete(galaxy_data, cols_to_remove, axis=2)\n",
    "galaxy_noise = np.delete(galaxy_noise, rows_to_remove, axis=1)\n",
    "galaxy_noise = np.delete(galaxy_noise, cols_to_remove, axis=2)\n",
    "\n",
    "n_spaxels = len(galaxy_data[0,0,:])*len(galaxy_data[0,:,0])"
   ]
  },
  {
   "cell_type": "code",
   "execution_count": 57,
   "metadata": {
    "collapsed": false
   },
   "outputs": [
    {
     "name": "stdout",
     "output_type": "stream",
     "text": [
      "1276\n"
     ]
    }
   ],
   "source": [
    "## ----------========== Spatially Binning =============---------\n",
    "spaxels_in_bin = np.where(bin_num == bin)[0]\n",
    "n_spaxels_in_bin = len(spaxels_in_bin)\n",
    "\n",
    "bin_lin_temp = np.zeros(s[0])\n",
    "bin_lin_noise_temp = np.zeros(s[0])\n",
    "bin_badpix_temp = np.zeros(s[0])\n",
    "\n",
    "print spaxels_in_bin[0]"
   ]
  },
  {
   "cell_type": "code",
   "execution_count": 54,
   "metadata": {
    "collapsed": false
   },
   "outputs": [
    {
     "name": "stdout",
     "output_type": "stream",
     "text": [
      "1916 35.0 16.0\n"
     ]
    },
    {
     "name": "stderr",
     "output_type": "stream",
     "text": [
      "/opt/local/Library/Frameworks/Python.framework/Versions/2.7/lib/python2.7/site-packages/ipykernel/__main__.py:6: DeprecationWarning: using a non-integer number instead of an integer will result in an error in the future\n",
      "/opt/local/Library/Frameworks/Python.framework/Versions/2.7/lib/python2.7/site-packages/ipykernel/__main__.py:7: DeprecationWarning: using a non-integer number instead of an integer will result in an error in the future\n",
      "/opt/local/Library/Frameworks/Python.framework/Versions/2.7/lib/python2.7/site-packages/ipykernel/__main__.py:8: DeprecationWarning: using a non-integer number instead of an integer will result in an error in the future\n"
     ]
    },
    {
     "data": {
      "text/plain": [
       "[<matplotlib.lines.Line2D at 0x10bccea50>]"
      ]
     },
     "execution_count": 54,
     "metadata": {},
     "output_type": "execute_result"
    },
    {
     "data": {
      "image/png": "[encoded data removed]",
      "text/plain": [
       "<matplotlib.figure.Figure at 0x10b8a9510>"
      ]
     },
     "metadata": {},
     "output_type": "display_data"
    }
   ],
   "source": [
    "for i in range(n_spaxels_in_bin):\n",
    "    x_i = x[spaxels_in_bin[i]]\n",
    "    y_i = y[spaxels_in_bin[i]]\n",
    "    print s[0],x_i, y_i\n",
    "    for k in range(s[0]):\n",
    "        bin_lin_temp[k] += galaxy_data[k,x_i,y_i]\n",
    "        bin_lin_noise_temp[k] += galaxy_noise[k,x_i,y_i]**2\n",
    "        bin_badpix_temp[k] += galaxy_badpix[k,x_i,y_i]\n",
    "\n",
    "plt.plot(galaxy_data[:,35,16])"
   ]
  },
  {
   "cell_type": "code",
   "execution_count": 38,
   "metadata": {
    "collapsed": true
   },
   "outputs": [],
   "source": [
    "bin_lin_noise_temp = np.sqrt(bin_lin_noise_temp)"
   ]
  },
  {
   "cell_type": "code",
   "execution_count": 41,
   "metadata": {
    "collapsed": false
   },
   "outputs": [
    {
     "name": "stderr",
     "output_type": "stream",
     "text": [
      "/opt/local/Library/Frameworks/Python.framework/Versions/2.7/lib/python2.7/site-packages/ipykernel/__main__.py:16: DeprecationWarning: using a non-integer number instead of an integer will result in an error in the future\n",
      "/opt/local/Library/Frameworks/Python.framework/Versions/2.7/lib/python2.7/site-packages/ipykernel/__main__.py:24: DeprecationWarning: using a non-integer number instead of an integer will result in an error in the future\n"
     ]
    }
   ],
   "source": [
    "## --------======== Finding limits of the spectrum ========--------\n",
    "## limits are the cuts in pixel units, while lamRange is the cuts in\n",
    "## wavelength unis.\n",
    "gap=12\n",
    "ignore = int((5581 - CRVAL_spec)/CDELT_spec) + np.arange(-gap+1,gap)  \n",
    "ignore2 = int((5199 - CRVAL_spec)/CDELT_spec) + np.arange(-gap+1,gap) \n",
    "\n",
    "## h is the spectrum with the peak enclosed by 'ignore' removed.\n",
    "h = np.delete(bin_lin_temp, ignore)\n",
    "h = np.delete(h,ignore2)\n",
    "\n",
    "half = s[0]/2\n",
    "a = np.delete(h,np.arange(-4,0)+len(h),None)/np.median(h[np.nonzero(h)]) - \\\n",
    "        h[4:]/np.median(h[np.nonzero(h)])\n",
    "a = np.where(np.isfinite(a), a, 0)\n",
    "\n",
    "if any(np.abs(a[:0.5*half]) > 0.2):\n",
    "    lower_limit = max(np.where(np.abs(a[:0.5*half]) > 0.2)[0])\n",
    "else: \n",
    "    lower_limit = -1\n",
    "#        print str(i_gal) + ', ' + str(bin)\n",
    "\n",
    "    \n",
    "#    lower_limit = max(np.where(np.abs(a[:0.5*half]) > 0.2)[0])\n",
    "if any(np.abs(a[1.5*half:]) > 0.2):\n",
    "    upper_limit = min(np.where(np.abs(a[1.5*half:]) > 0.2)[0])+int(1.5*half)\n",
    "else:\n",
    "    upper_limit = -1\n",
    "        \n",
    "if upper_limit > ignore2[0]: upper_limit+=gap \n",
    "if upper_limit > ignore[0]: upper_limit+=gap\n",
    "\n"
   ]
  },
  {
   "cell_type": "code",
   "execution_count": 42,
   "metadata": {
    "collapsed": false
   },
   "outputs": [
    {
     "ename": "ValueError",
     "evalue": "min() arg is an empty sequence",
     "output_type": "error",
     "traceback": [
      "\u001b[0;31m---------------------------------------------------------------------------\u001b[0m",
      "\u001b[0;31mValueError\u001b[0m                                Traceback (most recent call last)",
      "\u001b[0;32m<ipython-input-42-d28c19e728a2>\u001b[0m in \u001b[0;36m<module>\u001b[0;34m()\u001b[0m\n\u001b[1;32m      1\u001b[0m \u001b[0;32mif\u001b[0m \u001b[0mlower_limit\u001b[0m \u001b[0;34m<\u001b[0m \u001b[0;36m0\u001b[0m\u001b[0;34m:\u001b[0m\u001b[0;34m\u001b[0m\u001b[0m\n\u001b[0;32m----> 2\u001b[0;31m     \u001b[0mlower_limit\u001b[0m \u001b[0;34m=\u001b[0m \u001b[0mmin\u001b[0m\u001b[0;34m(\u001b[0m\u001b[0mnp\u001b[0m\u001b[0;34m.\u001b[0m\u001b[0mwhere\u001b[0m\u001b[0;34m(\u001b[0m\u001b[0ma\u001b[0m\u001b[0;34m[\u001b[0m\u001b[0;34m:\u001b[0m\u001b[0mhalf\u001b[0m\u001b[0;34m]\u001b[0m \u001b[0;34m!=\u001b[0m \u001b[0;36m0\u001b[0m\u001b[0;34m)\u001b[0m\u001b[0;34m[\u001b[0m\u001b[0;36m0\u001b[0m\u001b[0;34m]\u001b[0m\u001b[0;34m)\u001b[0m \u001b[0;34m+\u001b[0m \u001b[0;36m5\u001b[0m\u001b[0;34m\u001b[0m\u001b[0m\n\u001b[0m\u001b[1;32m      3\u001b[0m     \u001b[0;32mif\u001b[0m \u001b[0mlower_limit\u001b[0m \u001b[0;34m<\u001b[0m \u001b[0;36m0\u001b[0m\u001b[0;34m:\u001b[0m \u001b[0mlower_limit\u001b[0m \u001b[0;34m=\u001b[0m \u001b[0;36m0\u001b[0m\u001b[0;34m\u001b[0m\u001b[0m\n\u001b[1;32m      4\u001b[0m \u001b[0;34m\u001b[0m\u001b[0m\n\u001b[1;32m      5\u001b[0m \u001b[0;32melse\u001b[0m\u001b[0;34m:\u001b[0m\u001b[0;34m\u001b[0m\u001b[0m\n",
      "\u001b[0;31mValueError\u001b[0m: min() arg is an empty sequence"
     ]
    }
   ],
   "source": [
    "if lower_limit < 0:\n",
    "    lower_limit = min(np.where(a[:half] != 0)[0]) + 5\n",
    "    if lower_limit < 0: lower_limit = 0\n",
    "\n",
    "else:\n",
    "   lower_limit +=5\n",
    "\n",
    "if upper_limit > s[0]-1 or upper_limit < half:\n",
    "    upper_limit = s[0]-6 \n",
    "else:\n",
    "    upper_limit += -5"
   ]
  },
  {
   "cell_type": "code",
   "execution_count": 43,
   "metadata": {
    "collapsed": false
   },
   "outputs": [
    {
     "data": {
      "text/plain": [
       "[<matplotlib.lines.Line2D at 0x10a47afd0>]"
      ]
     },
     "execution_count": 43,
     "metadata": {},
     "output_type": "execute_result"
    },
    {
     "data": {
      "image/png": "[encoded data removed]",
      "text/plain": [
       "<matplotlib.figure.Figure at 0x10cba1d90>"
      ]
     },
     "metadata": {},
     "output_type": "display_data"
    }
   ],
   "source": [
    "plt.plot(a)"
   ]
  },
  {
   "cell_type": "code",
   "execution_count": 44,
   "metadata": {
    "collapsed": false
   },
   "outputs": [
    {
     "data": {
      "text/plain": [
       "[<matplotlib.lines.Line2D at 0x10b81bc90>]"
      ]
     },
     "execution_count": 44,
     "metadata": {},
     "output_type": "execute_result"
    },
    {
     "data": {
      "image/png": "[encoded data removed]",
      "text/plain": [
       "<matplotlib.figure.Figure at 0x10a46cc90>"
      ]
     },
     "metadata": {},
     "output_type": "display_data"
    }
   ],
   "source": [
    "plt.plot(bin_lin_temp)"
   ]
  },
  {
   "cell_type": "code",
   "execution_count": 45,
   "metadata": {
    "collapsed": true
   },
   "outputs": [],
   "source": [
    "galaxy_badpix = pyfits.getdata(dataCubeDirectory[0], 3)\n"
   ]
  },
  {
   "cell_type": "code",
   "execution_count": null,
   "metadata": {
    "collapsed": true
   },
   "outputs": [],
   "source": []
  }
 ],
 "metadata": {
  "kernelspec": {
   "display_name": "Python 2",
   "language": "python",
   "name": "python2"
  },
  "language_info": {
   "codemirror_mode": {
    "name": "ipython",
    "version": 2
   },
   "file_extension": ".py",
   "mimetype": "text/x-python",
   "name": "python",
   "nbconvert_exporter": "python",
   "pygments_lexer": "ipython2",
   "version": "2.7.11"
  }
 },
 "nbformat": 4,
 "nbformat_minor": 0
}
